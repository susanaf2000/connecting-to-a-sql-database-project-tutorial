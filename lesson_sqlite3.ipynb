{
 "cells": [
  {
   "cell_type": "code",
   "execution_count": 1,
   "metadata": {},
   "outputs": [],
   "source": [
    "#SQLITE3\n",
    "\n",
    "#for each database, we need different libraries\n",
    "import sqlite3"
   ]
  },
  {
   "cell_type": "code",
   "execution_count": 2,
   "metadata": {},
   "outputs": [],
   "source": [
    "con = sqlite3.connect('classDatabase.db') #connector string, providing a file name that doesnt exist yet "
   ]
  },
  {
   "cell_type": "code",
   "execution_count": 6,
   "metadata": {},
   "outputs": [
    {
     "data": {
      "text/plain": [
       "<sqlite3.Cursor at 0x7fa3a6d97bc0>"
      ]
     },
     "execution_count": 6,
     "metadata": {},
     "output_type": "execute_result"
    }
   ],
   "source": [
    "con.execute(\"\"\" \n",
    "    create table books(\n",
    "            book_id int unique primary key not null,\n",
    "            tittle text,\n",
    "            author text,\n",
    "            pages int,\n",
    "            rating float\n",
    "    )\n",
    "\"\"\") \n",
    "# a function where we can provida a SQL as a str\n",
    "#primary key makes faster to query our data"
   ]
  },
  {
   "cell_type": "code",
   "execution_count": 16,
   "metadata": {},
   "outputs": [
    {
     "data": {
      "text/plain": [
       "<sqlite3.Cursor at 0x7fa3a6d6b8c0>"
      ]
     },
     "execution_count": 16,
     "metadata": {},
     "output_type": "execute_result"
    }
   ],
   "source": [
    "con.execute(\"\"\" \n",
    "    insert into books (book_id, tittle, author, pages, rating) values (3, \"Bloody Meridian\", \"Cormac McCarthy\", 200, 9.5)\n",
    "\"\"\")"
   ]
  },
  {
   "cell_type": "code",
   "execution_count": 19,
   "metadata": {},
   "outputs": [],
   "source": [
    "cur = con.execute(\"\"\"\n",
    "    select * from books\n",
    "\"\"\")"
   ]
  },
  {
   "cell_type": "code",
   "execution_count": 20,
   "metadata": {},
   "outputs": [
    {
     "name": "stdout",
     "output_type": "stream",
     "text": [
      "(1, 'Bloody Meridian', 'Cormac McCarthy', 200, 9.5)\n",
      "(2, 'Bloody Meridian', 'Cormac McCarthy', 200, 9.5)\n",
      "(3, 'Bloody Meridian', 'Cormac McCarthy', 200, 9.5)\n"
     ]
    }
   ],
   "source": [
    "for row in cur:\n",
    "    print(row)"
   ]
  },
  {
   "cell_type": "code",
   "execution_count": null,
   "metadata": {},
   "outputs": [],
   "source": []
  }
 ],
 "metadata": {
  "kernelspec": {
   "display_name": "Python 3",
   "language": "python",
   "name": "python3"
  },
  "language_info": {
   "codemirror_mode": {
    "name": "ipython",
    "version": 3
   },
   "file_extension": ".py",
   "mimetype": "text/x-python",
   "name": "python",
   "nbconvert_exporter": "python",
   "pygments_lexer": "ipython3",
   "version": "3.10.12"
  }
 },
 "nbformat": 4,
 "nbformat_minor": 2
}
